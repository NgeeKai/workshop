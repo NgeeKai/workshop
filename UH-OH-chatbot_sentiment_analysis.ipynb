{
  "cells": [
    {
      "cell_type": "code",
      "execution_count": 7,
      "metadata": {
        "colab": {
          "base_uri": "https://localhost:8080/"
        },
        "id": "xrxubbputtga",
        "outputId": "9545dd96-71c9-4d37-e9c6-fa40933f2178"
      },
      "outputs": [
        {
          "output_type": "stream",
          "name": "stdout",
          "text": [
            "Hello! I am your chatbot.\n",
            "You: how are you doing\n",
            "Chatbot: I'm not sure how to respond to that.\n",
            "You: bye\n",
            "Chatbot: Goodbye!\n"
          ]
        }
      ],
      "source": [
        "def simple_chatbot():\n",
        "    print(\"Hello! I am your chatbot.\")\n",
        "\n",
        "    responses = {\n",
        "        \"hi\": \"Hello!\",\n",
        "        \"hello\": \"Hi there!\",\n",
        "        \"hey\": \"Hey!\",\n",
        "        \"how are you\": \"I'm doing well, how about you?\",\n",
        "        \"what is your name\": \"I am a simple chatbot.\",\n",
        "        \"bye\": \"Goodbye! Have a great day!\"\n",
        "    }\n",
        "\n",
        "    while True:\n",
        "        user_input = input(\"You: \").lower()\n",
        "        if user_input in [\"bye\", \"exit\", \"quit\"]:\n",
        "            print(\"Chatbot: Goodbye!\")\n",
        "            break\n",
        "\n",
        "        response = responses.get(user_input, \"I'm not sure how to respond to that.\")\n",
        "        print(\"Chatbot:\", response)\n",
        "\n",
        "if __name__ == \"__main__\":\n",
        "    simple_chatbot()\n"
      ]
    },
    {
      "cell_type": "markdown",
      "source": [
        "**Enhanced with Fazzy control**"
      ],
      "metadata": {
        "id": "O0oyGXGH49Jp"
      }
    },
    {
      "cell_type": "code",
      "source": [
        "!pip install fuzzywuzzy[speedup]"
      ],
      "metadata": {
        "colab": {
          "base_uri": "https://localhost:8080/"
        },
        "id": "FE1HV4Eq4q1g",
        "outputId": "3bb7c322-a190-4f72-9ca4-fc882404709d"
      },
      "execution_count": 2,
      "outputs": [
        {
          "output_type": "stream",
          "name": "stdout",
          "text": [
            "Collecting fuzzywuzzy[speedup]\n",
            "  Downloading fuzzywuzzy-0.18.0-py2.py3-none-any.whl.metadata (4.9 kB)\n",
            "Collecting python-levenshtein>=0.12 (from fuzzywuzzy[speedup])\n",
            "  Downloading python_levenshtein-0.27.1-py3-none-any.whl.metadata (3.7 kB)\n",
            "Collecting Levenshtein==0.27.1 (from python-levenshtein>=0.12->fuzzywuzzy[speedup])\n",
            "  Downloading levenshtein-0.27.1-cp311-cp311-manylinux_2_17_x86_64.manylinux2014_x86_64.whl.metadata (3.6 kB)\n",
            "Collecting rapidfuzz<4.0.0,>=3.9.0 (from Levenshtein==0.27.1->python-levenshtein>=0.12->fuzzywuzzy[speedup])\n",
            "  Downloading rapidfuzz-3.12.2-cp311-cp311-manylinux_2_17_x86_64.manylinux2014_x86_64.whl.metadata (12 kB)\n",
            "Downloading python_levenshtein-0.27.1-py3-none-any.whl (9.4 kB)\n",
            "Downloading levenshtein-0.27.1-cp311-cp311-manylinux_2_17_x86_64.manylinux2014_x86_64.whl (161 kB)\n",
            "\u001b[2K   \u001b[90m━━━━━━━━━━━━━━━━━━━━━━━━━━━━━━━━━━━━━━━━\u001b[0m \u001b[32m161.7/161.7 kB\u001b[0m \u001b[31m5.7 MB/s\u001b[0m eta \u001b[36m0:00:00\u001b[0m\n",
            "\u001b[?25hDownloading fuzzywuzzy-0.18.0-py2.py3-none-any.whl (18 kB)\n",
            "Downloading rapidfuzz-3.12.2-cp311-cp311-manylinux_2_17_x86_64.manylinux2014_x86_64.whl (3.1 MB)\n",
            "\u001b[2K   \u001b[90m━━━━━━━━━━━━━━━━━━━━━━━━━━━━━━━━━━━━━━━━\u001b[0m \u001b[32m3.1/3.1 MB\u001b[0m \u001b[31m35.7 MB/s\u001b[0m eta \u001b[36m0:00:00\u001b[0m\n",
            "\u001b[?25hInstalling collected packages: fuzzywuzzy, rapidfuzz, Levenshtein, python-levenshtein\n",
            "Successfully installed Levenshtein-0.27.1 fuzzywuzzy-0.18.0 python-levenshtein-0.27.1 rapidfuzz-3.12.2\n"
          ]
        }
      ]
    },
    {
      "cell_type": "code",
      "source": [
        "from fuzzywuzzy import fuzz"
      ],
      "metadata": {
        "id": "k6QMoz9m4xV6"
      },
      "execution_count": 3,
      "outputs": []
    },
    {
      "cell_type": "code",
      "source": [
        "from fuzzywuzzy import fuzz\n",
        "from IPython import get_ipython\n",
        "from IPython.display import display\n",
        "# %%\n",
        "def simple_chatbot():\n",
        "    print(\"Hello! I am your chatbot.\")\n",
        "\n",
        "    responses = {\n",
        "        \"hi\": \"Hello!\",\n",
        "        \"hello\": \"Hi there!\",\n",
        "        \"hey\": \"Hey!\",\n",
        "        \"how are you\": \"I'm doing well, how about you?\",\n",
        "        \"what is your name\": \"I am a simple chatbot.\",\n",
        "        \"bye\": \"Goodbye! Have a great day!\"\n",
        "    }\n",
        "    FAZZY_THRESHOLD = 20\n",
        "\n",
        "    while True:\n",
        "        user_input = input(\"You: \").lower()\n",
        "        if user_input in [\"bye\", \"exit\", \"quit\"]:\n",
        "            print(\"Chatbot: Goodbye!\")\n",
        "            break\n",
        "\n",
        "        # Fuzzy matching\n",
        "        best_match = None\n",
        "        best_score = 0\n",
        "\n",
        "        for key in responses:\n",
        "            score = fuzz.ratio(user_input, key)\n",
        "            if score > best_score:\n",
        "                best_score = score\n",
        "                best_match = key\n",
        "\n",
        "        if best_score > FAZZY_THRESHOLD:  # Adjust threshold as needed\n",
        "            response = responses.get(best_match, \"I'm not sure how to respond to that.\")\n",
        "            print(\"Chatbot:\", response)\n",
        "        else:\n",
        "            print(\"Chatbot: I'm not sure how to respond to that.\")\n",
        "\n",
        "if __name__ == \"__main__\":\n",
        "    simple_chatbot()"
      ],
      "metadata": {
        "colab": {
          "base_uri": "https://localhost:8080/"
        },
        "id": "4Pbfa3sB42VI",
        "outputId": "cd6454c8-0b8c-4054-da3b-9d9a69478bd3"
      },
      "execution_count": 9,
      "outputs": [
        {
          "output_type": "stream",
          "name": "stdout",
          "text": [
            "Hello! I am your chatbot.\n",
            "You: hihi\n",
            "Chatbot: Hello!\n",
            "You: your name\n",
            "Chatbot: I am a simple chatbot.\n",
            "You: your age\n",
            "Chatbot: I am a simple chatbot.\n",
            "You: you good?\n",
            "Chatbot: I am a simple chatbot.\n",
            "You: are you good\n",
            "Chatbot: I'm doing well, how about you?\n",
            "You: bye\n",
            "Chatbot: Goodbye!\n"
          ]
        }
      ]
    },
    {
      "cell_type": "markdown",
      "source": [
        "**Sentiment analysis**"
      ],
      "metadata": {
        "id": "cHmCLf0k7Awp"
      }
    },
    {
      "cell_type": "code",
      "source": [
        "from textblob import TextBlob\n",
        "\n",
        "def analyse_sentiment(text):\n",
        "    analysis = TextBlob(text)\n",
        "    return analysis.sentiment.polarity,analysis.sentiment.subjectivity\n",
        "\n",
        "your_text = \"Happy Birthday.\"\n",
        "your_text =input(\"Please type in your text: \")\n",
        "sentiment_score, sentiment_subjectivity = analyse_sentiment(your_text)\n",
        "print(f\"Sentiment Score: {sentiment_score}\")\n",
        "print(f\"Sentiment subjectivity: {sentiment_subjectivity}\")"
      ],
      "metadata": {
        "colab": {
          "base_uri": "https://localhost:8080/"
        },
        "id": "hpMEAML87AEZ",
        "outputId": "6e96e4fb-f033-4230-a564-e88ad74f90da"
      },
      "execution_count": 2,
      "outputs": [
        {
          "output_type": "stream",
          "name": "stdout",
          "text": [
            "Please type in your text: Good girl\n",
            "Sentiment Score: 0.7\n",
            "Sentiment subjectivity: 0.6000000000000001\n"
          ]
        }
      ]
    }
  ],
  "metadata": {
    "colab": {
      "provenance": []
    },
    "kernelspec": {
      "display_name": "Python 3",
      "name": "python3"
    },
    "language_info": {
      "name": "python"
    }
  },
  "nbformat": 4,
  "nbformat_minor": 0
}